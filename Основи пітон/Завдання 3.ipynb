{
 "cells": [
  {
   "cell_type": "code",
   "execution_count": 4,
   "metadata": {},
   "outputs": [],
   "source": [
    "a = \"Олег\" #string\n",
    "b = 4 #int\n",
    "c = [\"Oleh\", 4, 4.5, \"Слово\"] #List\n",
    "d = {\"a\": \"Oleh\", \"b\": 4} # Dict\n",
    "e = (\"Oleh\", \"Borshovskyi\", 5, 4.5) # Tuple\n",
    "f = {\"Borshovskyi\", 0, 1.5} # Set"
   ]
  },
  {
   "cell_type": "code",
   "execution_count": 5,
   "metadata": {},
   "outputs": [
    {
     "name": "stdout",
     "output_type": "stream",
     "text": [
      "Олег\n",
      "4\n",
      "['Oleh', 4, 4.5, 'Слово']\n",
      "{'a': 'Oleh', 'b': 4}\n",
      "('Oleh', 'Borshovskyi', 5, 4.5)\n",
      "{0, 'Borshovskyi', 1.5}\n"
     ]
    }
   ],
   "source": [
    "print(a)\n",
    "print(b)\n",
    "print(c)\n",
    "print(d)\n",
    "print(e)\n",
    "print(f)"
   ]
  },
  {
   "cell_type": "code",
   "execution_count": 6,
   "metadata": {},
   "outputs": [
    {
     "name": "stdout",
     "output_type": "stream",
     "text": [
      "Hi True\n"
     ]
    }
   ],
   "source": [
    "print(\"Hi\", True) #вбудовані константи"
   ]
  },
  {
   "cell_type": "code",
   "execution_count": 8,
   "metadata": {},
   "outputs": [
    {
     "name": "stdout",
     "output_type": "stream",
     "text": [
      "4 1\n"
     ]
    }
   ],
   "source": [
    "print(max(-2, 4), pow(1, 4))"
   ]
  },
  {
   "cell_type": "code",
   "execution_count": 1,
   "metadata": {},
   "outputs": [
    {
     "name": "stdout",
     "output_type": "stream",
     "text": [
      "13\n",
      "12\n",
      "11\n",
      "10\n",
      "9\n",
      "8\n",
      "7\n",
      "6\n",
      "5\n",
      "4\n",
      "3\n",
      "2\n",
      "1\n"
     ]
    }
   ],
   "source": [
    "n = 13\n",
    "while(n>0):\n",
    "    print(n)\n",
    "    n -= 1"
   ]
  },
  {
   "cell_type": "code",
   "execution_count": 10,
   "metadata": {},
   "outputs": [
    {
     "name": "stdout",
     "output_type": "stream",
     "text": [
      "Перегляд фільму заборонено\n"
     ]
    }
   ],
   "source": [
    "age = 15\n",
    "if(age < 16):\n",
    "    print(\"Перегляд фільму заборонено\")\n",
    "else:\n",
    "    print(\"Перегляд фільму дозволено\")"
   ]
  },
  {
   "cell_type": "code",
   "execution_count": 12,
   "metadata": {},
   "outputs": [
    {
     "name": "stdout",
     "output_type": "stream",
     "text": [
      "Результат ділення: 4.0\n",
      "Цей блок виконається завжди, навіть якщо виникне помилка або навіть якщо блок `except` не буде викликаний.\n"
     ]
    }
   ],
   "source": [
    "try:\n",
    "    result = 8/2\n",
    "    print(f\"Результат ділення: {result}\")\n",
    "except ZeroDivisionError:\n",
    "    print(\"Помилка: Ділення на нуль неможливе!\")\n",
    "finally:\n",
    "    print(\"Цей блок виконається завжди, навіть якщо виникне помилка або навіть якщо блок `except` не буде викликаний.\")"
   ]
  },
  {
   "cell_type": "code",
   "execution_count": 14,
   "metadata": {},
   "outputs": [
    {
     "name": "stdout",
     "output_type": "stream",
     "text": [
      "Результат додавання: 14\n",
      "Результат множення: 14\n"
     ]
    }
   ],
   "source": [
    "# Функція, яка додає два числа за допомогою lambda\n",
    "add_numbers = lambda x, y: x + y\n",
    "\n",
    "# Функція, яка множить два числа за допомогою lambda\n",
    "multiply_numbers = lambda x, y: x * y\n",
    "\n",
    "# Виклик функцій lambda\n",
    "result_addition = add_numbers(9, 5)\n",
    "result_multiplication = multiply_numbers(2, 7)\n",
    "\n",
    "# Виведення результатів\n",
    "print(f\"Результат додавання: {result_addition}\")\n",
    "print(f\"Результат множення: {result_multiplication}\")"
   ]
  }
 ],
 "metadata": {
  "kernelspec": {
   "display_name": "Python 3",
   "language": "python",
   "name": "python3"
  },
  "language_info": {
   "codemirror_mode": {
    "name": "ipython",
    "version": 3
   },
   "file_extension": ".py",
   "mimetype": "text/x-python",
   "name": "python",
   "nbconvert_exporter": "python",
   "pygments_lexer": "ipython3",
   "version": "3.10.11"
  }
 },
 "nbformat": 4,
 "nbformat_minor": 2
}
